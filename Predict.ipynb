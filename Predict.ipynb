{
  "nbformat": 4,
  "nbformat_minor": 0,
  "metadata": {
    "colab": {
      "name": "Training.ipynb",
      "provenance": [],
      "collapsed_sections": []
    },
    "kernelspec": {
      "name": "python3",
      "display_name": "Python 3"
    }
  },
  "cells": [
    {
      "cell_type": "code",
      "metadata": {
        "id": "G28WCoLP44Bf",
        "colab_type": "code",
        "colab": {}
      },
      "source": [
        "!pip install -q sklearn"
      ],
      "execution_count": 0,
      "outputs": []
    },
    {
      "cell_type": "code",
      "metadata": {
        "id": "5HkhvEGVJ116",
        "colab_type": "code",
        "colab": {}
      },
      "source": [
        "import numpy as np\n",
        "import pandas as pd\n",
        "import matplotlib.pyplot as plt\n",
        "from sklearn import model_selection,linear_model,metrics\n",
        "import seaborn as sns\n",
        "from IPython.display import clear_output\n",
        "from six.moves import urllib\n",
        "from sklearn.preprocessing import StandardScaler\n",
        "from sklearn.svm import SVR\n",
        "l2020 = {}\n"
      ],
      "execution_count": 0,
      "outputs": []
    },
    {
      "cell_type": "code",
      "metadata": {
        "id": "-U659rIsLexZ",
        "colab_type": "code",
        "colab": {}
      },
      "source": [
        "data = pd.read_csv('/content/rainfall.csv')\n",
        "data = data[[\"YEAR\",\"DEC\"]]"
      ],
      "execution_count": 0,
      "outputs": []
    },
    {
      "cell_type": "code",
      "metadata": {
        "id": "M9iRe2rrLufI",
        "colab_type": "code",
        "colab": {}
      },
      "source": [
        "predict = \"DEC\"\n",
        "x = np.array(data.drop([predict],1))\n",
        "y = np.array(data[predict])\n",
        "x_train,x_test,y_train,y_test = model_selection.train_test_split(x,y,test_size = 0.1)\n",
        "sc_x= StandardScaler()\n",
        "sc_y = StandardScaler()\n",
        "x = sc_x.fit_transform(x)\n",
        "y = np.reshape(y,(-1,1))\n",
        "y = sc_y.fit_transform(y)"
      ],
      "execution_count": 0,
      "outputs": []
    },
    {
      "cell_type": "code",
      "metadata": {
        "id": "9Qt5YwVyLtdr",
        "colab_type": "code",
        "outputId": "a2793784-776b-49da-f035-7a26b1bed08d",
        "colab": {
          "base_uri": "https://localhost:8080/",
          "height": 353
        }
      },
      "source": [
        "regressor = SVR(kernel='rbf')\n",
        "regressor.fit(x,y)\n",
        "sns.regplot(x,y,fit_reg=True)\n",
        "#y_predict = sc_y.inverse_transform ((regressor.predict (sc_x.transform(x_test))))\n",
        "y_predict = sc_y.inverse_transform ((regressor.predict (sc_x.transform(np.array([[2020]])))))\n",
        "print(y_predict)\n",
        "print(regressor.score(x,y))"
      ],
      "execution_count": 0,
      "outputs": [
        {
          "output_type": "stream",
          "text": [
            "/usr/local/lib/python3.6/dist-packages/sklearn/utils/validation.py:760: DataConversionWarning: A column-vector y was passed when a 1d array was expected. Please change the shape of y to (n_samples, ), for example using ravel().\n",
            "  y = column_or_1d(y, warn=True)\n"
          ],
          "name": "stderr"
        },
        {
          "output_type": "stream",
          "text": [
            "[1.55273149]\n",
            "-0.12150370985849634\n"
          ],
          "name": "stdout"
        },
        {
          "output_type": "display_data",
          "data": {
            "image/png": "[encoded data removed]",
            "text/plain": [
              "<Figure size 432x288 with 1 Axes>"
            ]
          },
          "metadata": {
            "tags": [],
            "needs_background": "light"
          }
        }
      ]
    },
    {
      "cell_type": "code",
      "metadata": {
        "id": "8GL4iYMTTmbw",
        "colab_type": "code",
        "outputId": "0ac8aa35-b08e-414b-f873-0609129528b5",
        "colab": {
          "base_uri": "https://localhost:8080/",
          "height": 54
        }
      },
      "source": [
        "l2020[predict] = y_predict[0]\n",
        "print(l2020)"
      ],
      "execution_count": 0,
      "outputs": [
        {
          "output_type": "stream",
          "text": [
            "{'JAN': 0.6486056688075466, 'FEB': 0.5560251189161134, 'MAR': 2.006355121881904, 'APR': 3.7523856304225935, 'MAY': 9.78160861989048, 'JUN': 177.92446300003735, 'JUL': 282.92494921477197, 'AUG': 223.67087485275044, 'SEP': 169.46252092983545, 'OCT': 61.04319998571669, 'NOV': 9.037701456243354, 'DEC': 1.5527314883245342}\n"
          ],
          "name": "stdout"
        }
      ]
    }
  ]
}